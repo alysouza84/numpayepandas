{
 "cells": [
  {
   "cell_type": "code",
   "execution_count": 13,
   "metadata": {},
   "outputs": [],
   "source": [
    "import numpy as np\n",
    "import pandas as pd"
   ]
  },
  {
   "cell_type": "code",
   "execution_count": null,
   "metadata": {},
   "outputs": [],
   "source": [
    "#Liste os primeiros 10 itens do dataset.\n",
    "\n",
    "df = pd.read_csv('NetflixTvMovies.csv')\n",
    "\n",
    "df[:10] #lista os 10 primeiros itens do dataset"
   ]
  },
  {
   "cell_type": "code",
   "execution_count": null,
   "metadata": {},
   "outputs": [],
   "source": [
    "#listas os 10 ultimos itens do dataset\n",
    "\n",
    "df[-10:] #lista os 10 ultimos itens do dataset"
   ]
  },
  {
   "cell_type": "code",
   "execution_count": null,
   "metadata": {},
   "outputs": [],
   "source": [
    "#Qual o filme com o maior imdb_score e qual o filme com o pior imdb_score? \n",
    "from IPython.display import display #para exibir o dataframe de forma mais bonita =)\n",
    "\n",
    "maior_score = df[df['imdb_score'] == df['imdb_score'].max()] #filme com maior imdb_score\n",
    "print(\"Filme com maior score: \")\n",
    "display(maior_score)\n",
    "\n",
    "menor_score = df[df['imdb_score'] == df['imdb_score'].min()] #filme com menor imdb_score\n",
    "print(\"\\n\")\n",
    "print(\"Filme com menor score: \")\n",
    "display(menor_score)"
   ]
  },
  {
   "cell_type": "code",
   "execution_count": null,
   "metadata": {},
   "outputs": [],
   "source": [
    "#Qual a média de duração dos shows de TV e duração de filmes?"
   ]
  }
 ],
 "metadata": {
  "kernelspec": {
   "display_name": "Python 3",
   "language": "python",
   "name": "python3"
  },
  "language_info": {
   "codemirror_mode": {
    "name": "ipython",
    "version": 3
   },
   "file_extension": ".py",
   "mimetype": "text/x-python",
   "name": "python",
   "nbconvert_exporter": "python",
   "pygments_lexer": "ipython3",
   "version": "3.10.7"
  }
 },
 "nbformat": 4,
 "nbformat_minor": 2
}
