{
 "cells": [
  {
   "cell_type": "code",
   "execution_count": 2,
   "metadata": {},
   "outputs": [],
   "source": [
    "import numpy as np\n",
    "import pandas as pd"
   ]
  },
  {
   "cell_type": "code",
   "execution_count": null,
   "metadata": {},
   "outputs": [],
   "source": [
    "#Liste os primeiros 10 itens do dataset.\n",
    "\n",
    "df = pd.read_csv('NetflixTvMovies.csv')\n",
    "\n",
    "df[:10] #lista os 10 primeiros itens do dataset"
   ]
  },
  {
   "cell_type": "code",
   "execution_count": null,
   "metadata": {},
   "outputs": [],
   "source": [
    "#listas os 10 ultimos itens do dataset\n",
    "\n",
    "df[-10:] #lista os 10 ultimos itens do dataset"
   ]
  },
  {
   "cell_type": "code",
   "execution_count": null,
   "metadata": {},
   "outputs": [],
   "source": [
    "#Qual o filme com o maior imdb_score e qual o filme com o pior imdb_score? \n",
    "from IPython.display import display #para exibir o dataframe de forma mais bonita =)\n",
    "\n",
    "maior_score = df[df['imdb_score'] == df['imdb_score'].max()] #filme com maior imdb_score\n",
    "print(\"Filme com maior score: \")\n",
    "display(maior_score)\n",
    "\n",
    "menor_score = df[df['imdb_score'] == df['imdb_score'].min()] #filme com menor imdb_score\n",
    "print(\"\\n\")\n",
    "print(\"Filme com menor score: \")\n",
    "display(menor_score)"
   ]
  },
  {
   "cell_type": "code",
   "execution_count": null,
   "metadata": {},
   "outputs": [],
   "source": [
    "#Qual a média de duração dos shows de TV e duração de filmes?\n",
    "\n",
    "print(len(df)) #imprime o tamanho do dataset\n",
    "print(\"--\")\n",
    "print(df['type'].unique()) #imprime os tipos de conteudo type do dataset\n",
    "print(\"--\")\n",
    "\n",
    "filmes = df[df['type'] == 'MOVIE'] #filtra os filmes\n",
    "media_filmes = round(filmes['runtime'].mean(), 2) #calcula a media de duração dos filmes\n",
    "print(\"Quantidade de filmes: \", len(filmes)) #imprime a quantidade de filmes\n",
    "print(f\"Média de duração dos filmes: {media_filmes} minutos\") #imprime a média de duração dos filmes\n",
    "print(\"--\")\n",
    "\n",
    "tv = df[df['type'] == 'SHOW'] #filtra os shows de TV\n",
    "media_tv = round(tv['runtime'].mean(), 2) #calcula a media de duração dos shows de TV\n",
    "print(\"Quantidade de Shows de TV: \", len(tv)) #imprime a quantidade de shows de TV\n",
    "print(f\"Média de duração dos Shows de TV: {media_tv} minutos\") #imprime a média de duração dos shows de TV\n",
    "\n"
   ]
  },
  {
   "cell_type": "code",
   "execution_count": null,
   "metadata": {},
   "outputs": [],
   "source": [
    "#Qual o show de TV com maior duração por episódio e o filme com duração mais longa?\n",
    "\n",
    "# Show de TV com maior duração por episódio\n",
    "maior_duracao_tv = tv[tv['runtime'] == tv['runtime'].max()] \n",
    "print(\"Show de TV com maior duração por episódio: \")\n",
    "display(maior_duracao_tv)\n",
    "\n",
    "# Filme com maior duração\n",
    "maior_duracao_filme = filmes[filmes['runtime'] == filmes['runtime'].max()]\n",
    "print(\"Filme com maior duração: \")\n",
    "display(maior_duracao_filme)"
   ]
  },
  {
   "cell_type": "code",
   "execution_count": null,
   "metadata": {},
   "outputs": [],
   "source": [
    "#Qual ano apresentou a maior quantidade de filmes avaliados com imdb?\n",
    "\n",
    "#Agrupa os filmes por ano e conta a quantidade de filmes avaliados com imdb\n",
    "filmes_ano = filmes.groupby('release_year')['imdb_score'].count().reset_index()\n",
    "\n",
    "#Filtra o ano com a maior quantidade de filmes avaliados com imdb\n",
    "maior_qtd_filmes = filmes_ano[filmes_ano['imdb_score'] == filmes_ano['imdb_score'].max()]\n",
    "\n",
    "print(\"Ano com a maior quantidade de filmes avaliados com imdb: \")\n",
    "display(maior_qtd_filmes)"
   ]
  },
  {
   "cell_type": "code",
   "execution_count": null,
   "metadata": {},
   "outputs": [],
   "source": [
    "#Quais as categorias encontradas de age_certification e qual a quantidade de filmes para cada categoria?\n",
    "\n",
    "#Agrupa os filmes por categoria de age_certification e conta a quantidade de filmes para cada categoria\n",
    "categorias = filmes.groupby('age_certification')['title'].count().reset_index() #reset_index() usada para redefinir o índice de um DataFrame.\n",
    "\n",
    "print(\"Categorias de age_certification e quantidade de filmes para cada categoria: \")\n",
    "display(categorias)"
   ]
  },
  {
   "cell_type": "code",
   "execution_count": null,
   "metadata": {},
   "outputs": [],
   "source": [
    "#Quais colunas apresentam campos vazios? Qual a quantidade de campos vazios?\n",
    "\n",
    "#Verifica se há campos vazios no dataset\n",
    "campos_vazios = df.isnull().sum()\n",
    "\n",
    "print(\"Colunas com campos vazios e quantidade de campos vazios: \")\n",
    "display(campos_vazios)\n",
    "\n"
   ]
  },
  {
   "cell_type": "code",
   "execution_count": null,
   "metadata": {},
   "outputs": [],
   "source": [
    "#Gere um gráfico que você considere interessantes para apresentar a média de scores ao longo dos anos para filme e outro para shows.\n",
    "\n",
    "import matplotlib.pyplot as plt\n",
    "\n",
    "#Agrupa os filmes por ano e calcula a média de imdb_score\n",
    "media_score_filmes = filmes.groupby('release_year')['imdb_score'].mean().reset_index()\n",
    "\n",
    "#Agrupa os shows de TV por ano e calcula a média de imdb_score\n",
    "media_score_tv = tv.groupby('release_year')['imdb_score'].mean().reset_index()\n",
    "\n",
    "#Gera o gráfico para filmes\n",
    "plt.figure(figsize=(10, 5))\n",
    "plt.plot(media_score_filmes['release_year'], media_score_filmes['imdb_score'], marker='o', color='blue')\n",
    "plt.title('Média de scores ao longo dos anos para filmes')\n",
    "plt.xlabel('Ano')\n",
    "plt.ylabel('Média de imdb_score')\n",
    "plt.grid(True)\n",
    "\n"
   ]
  },
  {
   "cell_type": "code",
   "execution_count": null,
   "metadata": {},
   "outputs": [],
   "source": [
    "#Gera gráfico para shows de TV\n",
    "\n",
    "plt.figure(figsize=(10, 5))\n",
    "plt.plot(media_score_tv['release_year'], media_score_tv['imdb_score'], marker='o', color='red')\n",
    "plt.title('Média de scores ao longo dos anos para shows de TV')\n",
    "plt.xlabel('Ano')\n",
    "plt.ylabel('Média de imdb_score')\n",
    "plt.grid(True)"
   ]
  },
  {
   "cell_type": "code",
   "execution_count": null,
   "metadata": {},
   "outputs": [],
   "source": [
    "#Gere um gráfico que você considere interessante para apontar a proporção de votantes para shows e filmes.\n",
    "\n",
    "#Agrupa os filmes por tipo e calcula a média de imdb_votes\n",
    "proporcao_votantes = df.groupby('type')['imdb_votes'].mean().reset_index()\n",
    "\n",
    "#Gera o gráfico\n",
    "plt.figure(figsize=(10, 5))\n",
    "plt.bar(proporcao_votantes['type'], proporcao_votantes['imdb_votes'], color=['blue', 'red'])\n",
    "plt.title('Proporção de votantes para shows e filmes')\n",
    "plt.xlabel('Tipo')\n",
    "plt.ylabel('Média de imdb_votes')\n",
    "plt.grid(True)\n"
   ]
  }
 ],
 "metadata": {
  "kernelspec": {
   "display_name": "Python 3",
   "language": "python",
   "name": "python3"
  },
  "language_info": {
   "codemirror_mode": {
    "name": "ipython",
    "version": 3
   },
   "file_extension": ".py",
   "mimetype": "text/x-python",
   "name": "python",
   "nbconvert_exporter": "python",
   "pygments_lexer": "ipython3",
   "version": "3.10.7"
  }
 },
 "nbformat": 4,
 "nbformat_minor": 2
}
