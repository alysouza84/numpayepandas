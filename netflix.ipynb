{
 "cells": [
  {
   "cell_type": "code",
   "execution_count": 2,
   "metadata": {},
   "outputs": [],
   "source": [
    "import numpy as np\n",
    "import pandas as pd"
   ]
  },
  {
   "cell_type": "code",
   "execution_count": null,
   "metadata": {},
   "outputs": [],
   "source": [
    "#Liste os primeiros 10 itens do dataset.\n",
    "\n",
    "df = pd.read_csv('NetflixTvMovies.csv')\n",
    "\n",
    "df[:10] #lista os 10 primeiros itens do dataset"
   ]
  },
  {
   "cell_type": "code",
   "execution_count": null,
   "metadata": {},
   "outputs": [],
   "source": [
    "#listas os 10 ultimos itens do dataset\n",
    "\n",
    "df[-10:] #lista os 10 ultimos itens do dataset"
   ]
  },
  {
   "cell_type": "code",
   "execution_count": null,
   "metadata": {},
   "outputs": [],
   "source": [
    "#Qual o filme com o maior imdb_score e qual o filme com o pior imdb_score? \n",
    "from IPython.display import display #para exibir o dataframe de forma mais bonita =)\n",
    "\n",
    "maior_score = df[df['imdb_score'] == df['imdb_score'].max()] #filme com maior imdb_score\n",
    "print(\"Filme com maior score: \")\n",
    "display(maior_score)\n",
    "\n",
    "menor_score = df[df['imdb_score'] == df['imdb_score'].min()] #filme com menor imdb_score\n",
    "print(\"\\n\")\n",
    "print(\"Filme com menor score: \")\n",
    "display(menor_score)"
   ]
  },
  {
   "cell_type": "code",
   "execution_count": 26,
   "metadata": {},
   "outputs": [
    {
     "name": "stdout",
     "output_type": "stream",
     "text": [
      "5283\n",
      "--\n",
      "['MOVIE' 'SHOW']\n",
      "--\n",
      "Quantidade de filmes:  3407\n",
      "Média de duração dos filmes: 101.54 minutos\n",
      "--\n",
      "Quantidade de Shows de TV:  1876\n",
      "Média de duração dos Shows de TV: 38.63 minutos\n"
     ]
    }
   ],
   "source": [
    "#Qual a média de duração dos shows de TV e duração de filmes?\n",
    "\n",
    "print(len(df)) #imprime o tamanho do dataset\n",
    "print(\"--\")\n",
    "print(df['type'].unique()) #imprime os tipos de conteudo type do dataset\n",
    "print(\"--\")\n",
    "\n",
    "filmes = df[df['type'] == 'MOVIE'] #filtra os filmes\n",
    "media_filmes = round(filmes['runtime'].mean(), 2) #calcula a media de duração dos filmes\n",
    "print(\"Quantidade de filmes: \", len(filmes)) #imprime a quantidade de filmes\n",
    "print(f\"Média de duração dos filmes: {media_filmes} minutos\") #imprime a média de duração dos filmes\n",
    "print(\"--\")\n",
    "\n",
    "tv = df[df['type'] == 'SHOW'] #filtra os shows de TV\n",
    "media_tv = round(tv['runtime'].mean(), 2) #calcula a media de duração dos shows de TV\n",
    "print(\"Quantidade de Shows de TV: \", len(tv)) #imprime a quantidade de shows de TV\n",
    "print(f\"Média de duração dos Shows de TV: {media_tv} minutos\") #imprime a média de duração dos shows de TV\n",
    "\n"
   ]
  },
  {
   "cell_type": "code",
   "execution_count": null,
   "metadata": {},
   "outputs": [],
   "source": []
  },
  {
   "cell_type": "code",
   "execution_count": 29,
   "metadata": {},
   "outputs": [
    {
     "name": "stdout",
     "output_type": "stream",
     "text": [
      "Show de TV com maior duração por episódio: \n"
     ]
    },
    {
     "data": {
      "text/html": [
       "<div>\n",
       "<style scoped>\n",
       "    .dataframe tbody tr th:only-of-type {\n",
       "        vertical-align: middle;\n",
       "    }\n",
       "\n",
       "    .dataframe tbody tr th {\n",
       "        vertical-align: top;\n",
       "    }\n",
       "\n",
       "    .dataframe thead th {\n",
       "        text-align: right;\n",
       "    }\n",
       "</style>\n",
       "<table border=\"1\" class=\"dataframe\">\n",
       "  <thead>\n",
       "    <tr style=\"text-align: right;\">\n",
       "      <th></th>\n",
       "      <th>index</th>\n",
       "      <th>id</th>\n",
       "      <th>title</th>\n",
       "      <th>type</th>\n",
       "      <th>description</th>\n",
       "      <th>release_year</th>\n",
       "      <th>age_certification</th>\n",
       "      <th>runtime</th>\n",
       "      <th>imdb_id</th>\n",
       "      <th>imdb_score</th>\n",
       "      <th>imdb_votes</th>\n",
       "    </tr>\n",
       "  </thead>\n",
       "  <tbody>\n",
       "    <tr>\n",
       "      <th>3598</th>\n",
       "      <td>3598</td>\n",
       "      <td>ts90995</td>\n",
       "      <td>1994</td>\n",
       "      <td>SHOW</td>\n",
       "      <td>Archival video and new interviews examine Mexi...</td>\n",
       "      <td>2019</td>\n",
       "      <td>TV-MA</td>\n",
       "      <td>178</td>\n",
       "      <td>tt10243640</td>\n",
       "      <td>7.5</td>\n",
       "      <td>514.0</td>\n",
       "    </tr>\n",
       "  </tbody>\n",
       "</table>\n",
       "</div>"
      ],
      "text/plain": [
       "      index       id title  type  \\\n",
       "3598   3598  ts90995  1994  SHOW   \n",
       "\n",
       "                                            description  release_year  \\\n",
       "3598  Archival video and new interviews examine Mexi...          2019   \n",
       "\n",
       "     age_certification  runtime     imdb_id  imdb_score  imdb_votes  \n",
       "3598             TV-MA      178  tt10243640         7.5       514.0  "
      ]
     },
     "metadata": {},
     "output_type": "display_data"
    },
    {
     "name": "stdout",
     "output_type": "stream",
     "text": [
      "Filme com maior duração: \n"
     ]
    },
    {
     "data": {
      "text/html": [
       "<div>\n",
       "<style scoped>\n",
       "    .dataframe tbody tr th:only-of-type {\n",
       "        vertical-align: middle;\n",
       "    }\n",
       "\n",
       "    .dataframe tbody tr th {\n",
       "        vertical-align: top;\n",
       "    }\n",
       "\n",
       "    .dataframe thead th {\n",
       "        text-align: right;\n",
       "    }\n",
       "</style>\n",
       "<table border=\"1\" class=\"dataframe\">\n",
       "  <thead>\n",
       "    <tr style=\"text-align: right;\">\n",
       "      <th></th>\n",
       "      <th>index</th>\n",
       "      <th>id</th>\n",
       "      <th>title</th>\n",
       "      <th>type</th>\n",
       "      <th>description</th>\n",
       "      <th>release_year</th>\n",
       "      <th>age_certification</th>\n",
       "      <th>runtime</th>\n",
       "      <th>imdb_id</th>\n",
       "      <th>imdb_score</th>\n",
       "      <th>imdb_votes</th>\n",
       "    </tr>\n",
       "  </thead>\n",
       "  <tbody>\n",
       "    <tr>\n",
       "      <th>24</th>\n",
       "      <td>24</td>\n",
       "      <td>tm76557</td>\n",
       "      <td>No Longer Kids</td>\n",
       "      <td>MOVIE</td>\n",
       "      <td>By coincidence, Ahmad discovers that his fathe...</td>\n",
       "      <td>1979</td>\n",
       "      <td>NaN</td>\n",
       "      <td>235</td>\n",
       "      <td>tt8312792</td>\n",
       "      <td>9.0</td>\n",
       "      <td>943.0</td>\n",
       "    </tr>\n",
       "  </tbody>\n",
       "</table>\n",
       "</div>"
      ],
      "text/plain": [
       "    index       id           title   type  \\\n",
       "24     24  tm76557  No Longer Kids  MOVIE   \n",
       "\n",
       "                                          description  release_year  \\\n",
       "24  By coincidence, Ahmad discovers that his fathe...          1979   \n",
       "\n",
       "   age_certification  runtime    imdb_id  imdb_score  imdb_votes  \n",
       "24               NaN      235  tt8312792         9.0       943.0  "
      ]
     },
     "metadata": {},
     "output_type": "display_data"
    }
   ],
   "source": [
    "#Qual o show de TV com maior duração por episódio e o filme com duração mais longa?\n",
    "\n",
    "# Show de TV com maior duração por episódio\n",
    "maior_duracao_tv = tv[tv['runtime'] == tv['runtime'].max()] \n",
    "print(\"Show de TV com maior duração por episódio: \")\n",
    "display(maior_duracao_tv)\n",
    "\n",
    "# Filme com maior duração\n",
    "maior_duracao_filme = filmes[filmes['runtime'] == filmes['runtime'].max()]\n",
    "print(\"Filme com maior duração: \")\n",
    "display(maior_duracao_filme)"
   ]
  },
  {
   "cell_type": "code",
   "execution_count": 31,
   "metadata": {},
   "outputs": [
    {
     "name": "stdout",
     "output_type": "stream",
     "text": [
      "Ano com a maior quantidade de filmes avaliados com imdb: \n"
     ]
    },
    {
     "data": {
      "text/html": [
       "<div>\n",
       "<style scoped>\n",
       "    .dataframe tbody tr th:only-of-type {\n",
       "        vertical-align: middle;\n",
       "    }\n",
       "\n",
       "    .dataframe tbody tr th {\n",
       "        vertical-align: top;\n",
       "    }\n",
       "\n",
       "    .dataframe thead th {\n",
       "        text-align: right;\n",
       "    }\n",
       "</style>\n",
       "<table border=\"1\" class=\"dataframe\">\n",
       "  <thead>\n",
       "    <tr style=\"text-align: right;\">\n",
       "      <th></th>\n",
       "      <th>release_year</th>\n",
       "      <th>imdb_score</th>\n",
       "    </tr>\n",
       "  </thead>\n",
       "  <tbody>\n",
       "    <tr>\n",
       "      <th>62</th>\n",
       "      <td>2019</td>\n",
       "      <td>469</td>\n",
       "    </tr>\n",
       "  </tbody>\n",
       "</table>\n",
       "</div>"
      ],
      "text/plain": [
       "    release_year  imdb_score\n",
       "62          2019         469"
      ]
     },
     "metadata": {},
     "output_type": "display_data"
    }
   ],
   "source": [
    "#Qual ano apresentou a maior quantidade de filmes avaliados com imdb?\n",
    "\n",
    "#Agrupa os filmes por ano e conta a quantidade de filmes avaliados com imdb\n",
    "filmes_ano = filmes.groupby('release_year')['imdb_score'].count().reset_index()\n",
    "\n",
    "#Filtra o ano com a maior quantidade de filmes avaliados com imdb\n",
    "maior_qtd_filmes = filmes_ano[filmes_ano['imdb_score'] == filmes_ano['imdb_score'].max()]\n",
    "\n",
    "print(\"Ano com a maior quantidade de filmes avaliados com imdb: \")\n",
    "display(maior_qtd_filmes)"
   ]
  },
  {
   "cell_type": "code",
   "execution_count": 32,
   "metadata": {},
   "outputs": [
    {
     "name": "stdout",
     "output_type": "stream",
     "text": [
      "Categorias de age_certification e quantidade de filmes para cada categoria: \n"
     ]
    },
    {
     "data": {
      "text/html": [
       "<div>\n",
       "<style scoped>\n",
       "    .dataframe tbody tr th:only-of-type {\n",
       "        vertical-align: middle;\n",
       "    }\n",
       "\n",
       "    .dataframe tbody tr th {\n",
       "        vertical-align: top;\n",
       "    }\n",
       "\n",
       "    .dataframe thead th {\n",
       "        text-align: right;\n",
       "    }\n",
       "</style>\n",
       "<table border=\"1\" class=\"dataframe\">\n",
       "  <thead>\n",
       "    <tr style=\"text-align: right;\">\n",
       "      <th></th>\n",
       "      <th>age_certification</th>\n",
       "      <th>title</th>\n",
       "    </tr>\n",
       "  </thead>\n",
       "  <tbody>\n",
       "    <tr>\n",
       "      <th>0</th>\n",
       "      <td>G</td>\n",
       "      <td>105</td>\n",
       "    </tr>\n",
       "    <tr>\n",
       "      <th>1</th>\n",
       "      <td>NC-17</td>\n",
       "      <td>13</td>\n",
       "    </tr>\n",
       "    <tr>\n",
       "      <th>2</th>\n",
       "      <td>PG</td>\n",
       "      <td>238</td>\n",
       "    </tr>\n",
       "    <tr>\n",
       "      <th>3</th>\n",
       "      <td>PG-13</td>\n",
       "      <td>424</td>\n",
       "    </tr>\n",
       "    <tr>\n",
       "      <th>4</th>\n",
       "      <td>R</td>\n",
       "      <td>548</td>\n",
       "    </tr>\n",
       "  </tbody>\n",
       "</table>\n",
       "</div>"
      ],
      "text/plain": [
       "  age_certification  title\n",
       "0                 G    105\n",
       "1             NC-17     13\n",
       "2                PG    238\n",
       "3             PG-13    424\n",
       "4                 R    548"
      ]
     },
     "metadata": {},
     "output_type": "display_data"
    }
   ],
   "source": [
    "#Quais as categorias encontradas de age_certification e qual a quantidade de filmes para cada categoria?\n",
    "\n",
    "#Agrupa os filmes por categoria de age_certification e conta a quantidade de filmes para cada categoria\n",
    "categorias = filmes.groupby('age_certification')['title'].count().reset_index()\n",
    "\n",
    "print(\"Categorias de age_certification e quantidade de filmes para cada categoria: \")\n",
    "display(categorias)"
   ]
  },
  {
   "cell_type": "code",
   "execution_count": 33,
   "metadata": {},
   "outputs": [
    {
     "name": "stdout",
     "output_type": "stream",
     "text": [
      "Colunas com campos vazios e quantidade de campos vazios: \n"
     ]
    },
    {
     "data": {
      "text/plain": [
       "index                   0\n",
       "id                      0\n",
       "title                   0\n",
       "type                    0\n",
       "description             5\n",
       "release_year            0\n",
       "age_certification    2285\n",
       "runtime                 0\n",
       "imdb_id                 0\n",
       "imdb_score              0\n",
       "imdb_votes             16\n",
       "dtype: int64"
      ]
     },
     "metadata": {},
     "output_type": "display_data"
    }
   ],
   "source": [
    "#Quais colunas apresentam campos vazios? Qual a quantidade de campos vazios?\n",
    "\n",
    "#Verifica se há campos vazios no dataset\n",
    "campos_vazios = df.isnull().sum()\n",
    "\n",
    "print(\"Colunas com campos vazios e quantidade de campos vazios: \")\n",
    "display(campos_vazios)\n",
    "\n"
   ]
  }
 ],
 "metadata": {
  "kernelspec": {
   "display_name": "Python 3",
   "language": "python",
   "name": "python3"
  },
  "language_info": {
   "codemirror_mode": {
    "name": "ipython",
    "version": 3
   },
   "file_extension": ".py",
   "mimetype": "text/x-python",
   "name": "python",
   "nbconvert_exporter": "python",
   "pygments_lexer": "ipython3",
   "version": "3.10.7"
  }
 },
 "nbformat": 4,
 "nbformat_minor": 2
}
