{
 "cells": [
  {
   "cell_type": "code",
   "execution_count": 1,
   "metadata": {},
   "outputs": [],
   "source": [
    "import numpy as np #importando numpy\n",
    "import pandas as pd #importando pandas"
   ]
  },
  {
   "cell_type": "markdown",
   "metadata": {},
   "source": [
    "Exercício com numpy e padas.\n",
    "Ler dataset com Pandas e converter arrays para NumPy."
   ]
  },
  {
   "cell_type": "code",
   "execution_count": null,
   "metadata": {},
   "outputs": [],
   "source": [
    "df = pd.read_csv('Salary_Data.csv') #lendo o arquivo csv\n",
    "\n",
    "df.head() #mostrando as primeiras linhas do arquivo"
   ]
  },
  {
   "cell_type": "code",
   "execution_count": 4,
   "metadata": {},
   "outputs": [],
   "source": [
    "# Converter a coluna Years e Salary para um array NumPy\n",
    "anos = df['YearsExperience'].to_numpy()\n",
    "salarios = df['Salary'].to_numpy()\n"
   ]
  },
  {
   "cell_type": "code",
   "execution_count": null,
   "metadata": {},
   "outputs": [],
   "source": [
    "salarios[:5] #mostrando os 5 primeiros salários"
   ]
  },
  {
   "cell_type": "code",
   "execution_count": null,
   "metadata": {},
   "outputs": [],
   "source": [
    "anos[:5] #mostrando os 5 primeiros anos"
   ]
  },
  {
   "cell_type": "code",
   "execution_count": 7,
   "metadata": {},
   "outputs": [
    {
     "name": "stdout",
     "output_type": "stream",
     "text": [
      "A média dos salários é: R$76003.0\n"
     ]
    }
   ],
   "source": [
    "#calcular a média dos salários\n",
    "media_salarios = round(np.mean(salarios), 2)\n",
    "\n",
    "#exibir a média dos salários\n",
    "print(f\"A média dos salários é: R${media_salarios}\")"
   ]
  },
  {
   "cell_type": "code",
   "execution_count": 8,
   "metadata": {},
   "outputs": [
    {
     "name": "stdout",
     "output_type": "stream",
     "text": [
      "A média do tempo de serviço é: 5.31 anos\n"
     ]
    }
   ],
   "source": [
    "#calcular a média do tempo de serviçop\n",
    "media_anos = round(np.mean(anos), 2)\n",
    "\n",
    "print(f\"A média do tempo de serviço é: {media_anos} anos\")"
   ]
  },
  {
   "cell_type": "code",
   "execution_count": 9,
   "metadata": {},
   "outputs": [
    {
     "name": "stdout",
     "output_type": "stream",
     "text": [
      "a media de salario dos funcionarios com mas de 5 anos e de: 101316.07\n"
     ]
    }
   ],
   "source": [
    "#Encontre o salário médio dos funcionários com mais de 5 anos de serviço.\n",
    "filtro = anos > 5\n",
    "salario_filtro = salarios[filtro]\n",
    "media_salarios_filtro = round(np.mean(salario_filtro), 2)\n",
    "print(f'a media de salario dos funcionarios com mas de 5 anos e de: {media_salarios_filtro}')"
   ]
  },
  {
   "cell_type": "code",
   "execution_count": 12,
   "metadata": {},
   "outputs": [
    {
     "data": {
      "text/plain": [
       "Text(0, 0.5, 'Salario')"
      ]
     },
     "execution_count": 12,
     "metadata": {},
     "output_type": "execute_result"
    },
    {
     "data": {
      "image/png": "[encoded data removed]",
      "text/plain": [
       "<Figure size 640x480 with 1 Axes>"
      ]
     },
     "metadata": {},
     "output_type": "display_data"
    }
   ],
   "source": [
    "#Crie um gráfico de barras mostrando os salários referente ao tempo de serviço.\n",
    "import matplotlib.pyplot as plt\n",
    "\n",
    "plt.bar(anos, salarios, color = 'blue')\n",
    "\n",
    "plt.title(\"Salario vs Anos de Servico\")\n",
    "plt.xlabel(\"Anos de Servico\")\n",
    "plt.ylabel(\"Salario\")"
   ]
  },
  {
   "cell_type": "code",
   "execution_count": 13,
   "metadata": {},
   "outputs": [
    {
     "name": "stdout",
     "output_type": "stream",
     "text": [
      "Salarios apos amento de 10%: \n",
      "[ 43277.3  50825.5  41504.1  47877.5  43880.1  62306.2  66165.   59889.5\n",
      "  70889.5  62907.9  69539.8  61373.4  62652.7  62789.1  67222.1  74731.8\n",
      "  72631.9  91396.8  89499.3 103334.  100911.8 108100.3 111432.2 125193.2\n",
      " 120374.1 116140.2 128665.9 123898.5 134630.1 134059.2]\n"
     ]
    }
   ],
   "source": [
    "#Considere um aumento de 10% para o salário de cada funcionário e apresente o resultado do aumento.\n",
    "\n",
    "salario_reajuste = salarios * 1.10\n",
    "\n",
    "print(\"Salarios apos amento de 10%: \")\n",
    "print(salario_reajuste)"
   ]
  }
 ],
 "metadata": {
  "kernelspec": {
   "display_name": "Python 3",
   "language": "python",
   "name": "python3"
  },
  "language_info": {
   "codemirror_mode": {
    "name": "ipython",
    "version": 3
   },
   "file_extension": ".py",
   "mimetype": "text/x-python",
   "name": "python",
   "nbconvert_exporter": "python",
   "pygments_lexer": "ipython3",
   "version": "3.12.3"
  }
 },
 "nbformat": 4,
 "nbformat_minor": 2
}
